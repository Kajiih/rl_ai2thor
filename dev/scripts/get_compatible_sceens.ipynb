{
 "cells": [
  {
   "cell_type": "markdown",
   "metadata": {},
   "source": [
    "# Find scenes compatible with a given task\n"
   ]
  },
  {
   "cell_type": "code",
   "execution_count": 2,
   "metadata": {},
   "outputs": [
    {
     "name": "stdout",
     "output_type": "stream",
     "text": [
      "FloorPlan1_physics: No candidate found for item 'desk_lamp'\n",
      "FloorPlan2_physics: No candidate found for item 'desk_lamp'\n",
      "FloorPlan3_physics: No candidate found for item 'desk_lamp'\n",
      "FloorPlan4_physics: No candidate found for item 'desk_lamp'\n",
      "FloorPlan5_physics: No candidate found for item 'desk_lamp'\n",
      "FloorPlan6_physics: No candidate found for item 'desk_lamp'\n",
      "FloorPlan7_physics: No candidate found for item 'desk_lamp'\n",
      "FloorPlan8_physics: No candidate found for item 'desk_lamp'\n",
      "FloorPlan9_physics: No candidate found for item 'desk_lamp'\n",
      "FloorPlan10_physics: No candidate found for item 'desk_lamp'\n",
      "FloorPlan11_physics: No candidate found for item 'desk_lamp'\n",
      "FloorPlan12_physics: No candidate found for item 'desk_lamp'\n",
      "FloorPlan13_physics: No candidate found for item 'desk_lamp'\n",
      "FloorPlan14_physics: No candidate found for item 'desk_lamp'\n",
      "FloorPlan15_physics: No candidate found for item 'desk_lamp'\n",
      "FloorPlan16_physics: No candidate found for item 'desk_lamp'\n",
      "FloorPlan17_physics: No candidate found for item 'desk_lamp'\n",
      "FloorPlan18_physics: No candidate found for item 'desk_lamp'\n",
      "FloorPlan19_physics: No candidate found for item 'desk_lamp'\n",
      "FloorPlan20_physics: No candidate found for item 'desk_lamp'\n",
      "FloorPlan21_physics: No candidate found for item 'desk_lamp'\n",
      "FloorPlan22_physics: No candidate found for item 'desk_lamp'\n",
      "FloorPlan23_physics: No candidate found for item 'desk_lamp'\n",
      "FloorPlan24_physics: No candidate found for item 'desk_lamp'\n",
      "FloorPlan25_physics: No candidate found for item 'desk_lamp'\n",
      "FloorPlan26_physics: No candidate found for item 'desk_lamp'\n",
      "FloorPlan27_physics: No candidate found for item 'desk_lamp'\n",
      "FloorPlan28_physics: No candidate found for item 'desk_lamp'\n",
      "FloorPlan29_physics: No candidate found for item 'desk_lamp'\n",
      "FloorPlan30_physics: No candidate found for item 'desk_lamp'\n",
      "FloorPlan202_physics: No candidate found for item 'desk_lamp'\n",
      "FloorPlan203_physics: No candidate found for item 'desk_lamp'\n",
      "FloorPlan204_physics: No candidate found for item 'book'\n",
      "FloorPlan205_physics: No candidate found for item 'book'\n",
      "FloorPlan206_physics: No candidate found for item 'desk_lamp'\n",
      "FloorPlan207_physics: No candidate found for item 'desk_lamp'\n",
      "FloorPlan208_physics: No candidate found for item 'desk_lamp'\n",
      "FloorPlan209_physics: No candidate found for item 'desk_lamp'\n",
      "FloorPlan210_physics: No candidate found for item 'book'\n",
      "FloorPlan211_physics: No candidate found for item 'desk_lamp'\n",
      "FloorPlan212_physics: No candidate found for item 'desk_lamp'\n",
      "FloorPlan213_physics: No candidate found for item 'desk_lamp'\n",
      "FloorPlan214_physics: No candidate found for item 'book'\n",
      "FloorPlan215_physics: No candidate found for item 'book'\n",
      "FloorPlan216_physics: No candidate found for item 'book'\n",
      "FloorPlan217_physics: No candidate found for item 'book'\n",
      "FloorPlan218_physics: No candidate found for item 'book'\n",
      "FloorPlan219_physics: No candidate found for item 'book'\n",
      "FloorPlan220_physics: No candidate found for item 'desk_lamp'\n",
      "FloorPlan221_physics: No candidate found for item 'desk_lamp'\n",
      "FloorPlan222_physics: No candidate found for item 'desk_lamp'\n",
      "FloorPlan223_physics: No candidate found for item 'desk_lamp'\n",
      "FloorPlan225_physics: No candidate found for item 'book'\n",
      "FloorPlan226_physics: No candidate found for item 'desk_lamp'\n",
      "FloorPlan227_physics: No candidate found for item 'desk_lamp'\n",
      "FloorPlan228_physics: No candidate found for item 'desk_lamp'\n",
      "FloorPlan229_physics: No candidate found for item 'desk_lamp'\n",
      "FloorPlan230_physics: No candidate found for item 'book'\n",
      "FloorPlan401_physics: No candidate found for item 'desk_lamp'\n",
      "FloorPlan402_physics: No candidate found for item 'desk_lamp'\n",
      "FloorPlan403_physics: No candidate found for item 'desk_lamp'\n",
      "FloorPlan404_physics: No candidate found for item 'desk_lamp'\n",
      "FloorPlan405_physics: No candidate found for item 'desk_lamp'\n",
      "FloorPlan406_physics: No candidate found for item 'desk_lamp'\n",
      "FloorPlan407_physics: No candidate found for item 'desk_lamp'\n",
      "FloorPlan408_physics: No candidate found for item 'desk_lamp'\n",
      "FloorPlan409_physics: No candidate found for item 'desk_lamp'\n",
      "FloorPlan410_physics: No candidate found for item 'desk_lamp'\n",
      "FloorPlan411_physics: No candidate found for item 'desk_lamp'\n",
      "FloorPlan412_physics: No candidate found for item 'desk_lamp'\n",
      "FloorPlan413_physics: No candidate found for item 'desk_lamp'\n",
      "FloorPlan414_physics: No candidate found for item 'desk_lamp'\n",
      "FloorPlan415_physics: No candidate found for item 'desk_lamp'\n",
      "FloorPlan416_physics: No candidate found for item 'desk_lamp'\n",
      "FloorPlan417_physics: No candidate found for item 'desk_lamp'\n",
      "FloorPlan418_physics: No candidate found for item 'desk_lamp'\n",
      "FloorPlan419_physics: No candidate found for item 'desk_lamp'\n",
      "FloorPlan420_physics: No candidate found for item 'desk_lamp'\n",
      "FloorPlan421_physics: No candidate found for item 'desk_lamp'\n",
      "FloorPlan422_physics: No candidate found for item 'desk_lamp'\n",
      "FloorPlan423_physics: No candidate found for item 'desk_lamp'\n",
      "FloorPlan424_physics: No candidate found for item 'desk_lamp'\n",
      "FloorPlan425_physics: No candidate found for item 'desk_lamp'\n",
      "FloorPlan426_physics: No candidate found for item 'desk_lamp'\n",
      "FloorPlan427_physics: No candidate found for item 'desk_lamp'\n",
      "FloorPlan428_physics: No candidate found for item 'desk_lamp'\n",
      "FloorPlan429_physics: No candidate found for item 'desk_lamp'\n",
      "FloorPlan430_physics: No candidate found for item 'desk_lamp'\n",
      "['FloorPlan201', 'FloorPlan224', 'FloorPlan301', 'FloorPlan302', 'FloorPlan303', 'FloorPlan304', 'FloorPlan305', 'FloorPlan306', 'FloorPlan307', 'FloorPlan308', 'FloorPlan309', 'FloorPlan310', 'FloorPlan311', 'FloorPlan312', 'FloorPlan313', 'FloorPlan314', 'FloorPlan315', 'FloorPlan316', 'FloorPlan317', 'FloorPlan318', 'FloorPlan319', 'FloorPlan320', 'FloorPlan321', 'FloorPlan322', 'FloorPlan323', 'FloorPlan324', 'FloorPlan325', 'FloorPlan326', 'FloorPlan327', 'FloorPlan328', 'FloorPlan329', 'FloorPlan330']\n"
     ]
    }
   ],
   "source": [
    "from pathlib import Path\n",
    "\n",
    "from ai2thor.controller import Controller\n",
    "\n",
    "from rl_ai2thor.envs.scenes import SCENE_IDS\n",
    "from rl_ai2thor.envs.tasks.tasks import PrepareGoingToBedTask\n",
    "\n",
    "dump_path = Path(\"../data/compatible_scenes.txt\")\n",
    "dump_path.parent.mkdir(parents=True, exist_ok=True)\n",
    "\n",
    "scenes = []\n",
    "for scene_list in SCENE_IDS.values():\n",
    "    scenes += scene_list\n",
    "\n",
    "task = PrepareGoingToBedTask()\n",
    "controller = Controller()\n",
    "\n",
    "compatible_scenes = []\n",
    "for scene in scenes:\n",
    "    controller.reset(scene)\n",
    "    reset_successful, _, _, _ = task.preprocess_and_reset(controller)\n",
    "    if reset_successful:\n",
    "        compatible_scenes.append(scene)\n",
    "controller.stop()\n",
    "\n",
    "with dump_path.open(\"w\") as f:\n",
    "    for scene in compatible_scenes:\n",
    "        f.write(scene + \"\\n\")\n",
    "print(compatible_scenes)"
   ]
  },
  {
   "cell_type": "code",
   "execution_count": 4,
   "metadata": {},
   "outputs": [
    {
     "data": {
      "text/plain": [
       "dict_keys(['objects', 'isSceneAtRest', 'agent', 'heldObjectPose', 'arm', 'fov', 'cameraPosition', 'cameraOrthSize', 'thirdPartyCameras', 'collided', 'collidedObjects', 'inventoryObjects', 'sceneName', 'lastAction', 'errorMessage', 'errorCode', 'lastActionSuccess', 'screenWidth', 'screenHeight', 'agentId', 'depthFormat', 'colors', 'flatSurfacesOnGrid', 'distances', 'normals', 'isOpenableGrid', 'segmentedObjectIds', 'objectIdsInBox', 'actionIntReturn', 'actionFloatReturn', 'actionStringsReturn', 'actionFloatsReturn', 'actionVector3sReturn', 'visibleRange', 'currentTime', 'sceneBounds', 'actionReturn'])"
      ]
     },
     "execution_count": 4,
     "metadata": {},
     "output_type": "execute_result"
    }
   ],
   "source": [
    "# Controller().reset(scene).metadata.keys()"
   ]
  }
 ],
 "metadata": {
  "kernelspec": {
   "display_name": "rl_thor_benchmark",
   "language": "python",
   "name": "python3"
  },
  "language_info": {
   "codemirror_mode": {
    "name": "ipython",
    "version": 3
   },
   "file_extension": ".py",
   "mimetype": "text/x-python",
   "name": "python",
   "nbconvert_exporter": "python",
   "pygments_lexer": "ipython3",
   "version": "3.12.1"
  }
 },
 "nbformat": 4,
 "nbformat_minor": 2
}
